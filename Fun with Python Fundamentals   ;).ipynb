{
 "cells": [
  {
   "cell_type": "markdown",
   "id": "71aa1ab5",
   "metadata": {},
   "source": [
    "# 1. Python output"
   ]
  },
  {
   "cell_type": "code",
   "execution_count": 1,
   "id": "4d315295",
   "metadata": {},
   "outputs": [
    {
     "name": "stdout",
     "output_type": "stream",
     "text": [
      "Die World\n"
     ]
    }
   ],
   "source": [
    "# Python is a case sensitive language\n",
    "print('Die World')"
   ]
  },
  {
   "cell_type": "code",
   "execution_count": 2,
   "id": "88ce5412",
   "metadata": {},
   "outputs": [
    {
     "name": "stdout",
     "output_type": "stream",
     "text": [
      "Data Science\n"
     ]
    }
   ],
   "source": [
    "print('Data Science')"
   ]
  },
  {
   "cell_type": "code",
   "execution_count": 5,
   "id": "2031efcf",
   "metadata": {},
   "outputs": [
    {
     "name": "stdout",
     "output_type": "stream",
     "text": [
      "7\n"
     ]
    }
   ],
   "source": [
    "print(7)"
   ]
  },
  {
   "cell_type": "code",
   "execution_count": 6,
   "id": "7ec92373",
   "metadata": {},
   "outputs": [
    {
     "name": "stdout",
     "output_type": "stream",
     "text": [
      "7.7\n"
     ]
    }
   ],
   "source": [
    "print(7.7)"
   ]
  },
  {
   "cell_type": "code",
   "execution_count": 7,
   "id": "27ca19f2",
   "metadata": {},
   "outputs": [
    {
     "name": "stdout",
     "output_type": "stream",
     "text": [
      "True\n"
     ]
    }
   ],
   "source": [
    "print(True)"
   ]
  },
  {
   "cell_type": "code",
   "execution_count": 8,
   "id": "5cab4c25",
   "metadata": {},
   "outputs": [
    {
     "name": "stdout",
     "output_type": "stream",
     "text": [
      "hello 1 4.5 True\n"
     ]
    }
   ],
   "source": [
    "print(\"hello\",1,4.5,True)"
   ]
  },
  {
   "cell_type": "code",
   "execution_count": 9,
   "id": "a2b579e7",
   "metadata": {},
   "outputs": [
    {
     "name": "stdout",
     "output_type": "stream",
     "text": [
      "Hello-1-4.5-False\n"
     ]
    }
   ],
   "source": [
    "print(\"Hello\",1,4.5,False,sep='-')"
   ]
  },
  {
   "cell_type": "code",
   "execution_count": 10,
   "id": "f16c240e",
   "metadata": {},
   "outputs": [
    {
     "name": "stdout",
     "output_type": "stream",
     "text": [
      "hello\n",
      "world\n"
     ]
    }
   ],
   "source": [
    "print('hello')\n",
    "print('world')"
   ]
  },
  {
   "cell_type": "code",
   "execution_count": 11,
   "id": "dd50d7e2",
   "metadata": {},
   "outputs": [
    {
     "name": "stdout",
     "output_type": "stream",
     "text": [
      "Dead-World\n"
     ]
    }
   ],
   "source": [
    "print('Dead',end='-')\n",
    "print('World')"
   ]
  },
  {
   "cell_type": "markdown",
   "id": "25554d02",
   "metadata": {},
   "source": [
    "# 2. Data Types"
   ]
  },
  {
   "cell_type": "code",
   "execution_count": 12,
   "id": "40fb50fd",
   "metadata": {},
   "outputs": [
    {
     "name": "stdout",
     "output_type": "stream",
     "text": [
      "8\n",
      "inf\n"
     ]
    }
   ],
   "source": [
    "# Integer \n",
    "print(8)\n",
    "#1*10^308\n",
    "print(1e310)"
   ]
  },
  {
   "cell_type": "code",
   "execution_count": 13,
   "id": "239632e5",
   "metadata": {},
   "outputs": [
    {
     "name": "stdout",
     "output_type": "stream",
     "text": [
      "8.55\n",
      "inf\n"
     ]
    }
   ],
   "source": [
    "# Decimal / Float\n",
    "print(8.55)\n",
    "print(1.7e309)"
   ]
  },
  {
   "cell_type": "code",
   "execution_count": 14,
   "id": "894667a8",
   "metadata": {},
   "outputs": [
    {
     "name": "stdout",
     "output_type": "stream",
     "text": [
      "True\n",
      "False\n"
     ]
    }
   ],
   "source": [
    "# Boolean\n",
    "print(True)\n",
    "print(False)"
   ]
  },
  {
   "cell_type": "code",
   "execution_count": 15,
   "id": "ea5a18f1",
   "metadata": {},
   "outputs": [
    {
     "name": "stdout",
     "output_type": "stream",
     "text": [
      "Dead World\n"
     ]
    }
   ],
   "source": [
    "# Text / String\n",
    "print('Dead World')"
   ]
  },
  {
   "cell_type": "code",
   "execution_count": 16,
   "id": "614e14b3",
   "metadata": {},
   "outputs": [
    {
     "name": "stdout",
     "output_type": "stream",
     "text": [
      "(5+6j)\n"
     ]
    }
   ],
   "source": [
    "# Complex\n",
    "print(5+6j)"
   ]
  },
  {
   "cell_type": "code",
   "execution_count": 17,
   "id": "b1d5800c",
   "metadata": {},
   "outputs": [
    {
     "name": "stdout",
     "output_type": "stream",
     "text": [
      "[1, 2, 3, 4, 5]\n"
     ]
    }
   ],
   "source": [
    "# List -> C -> Array\n",
    "print([1,2,3,4,5])"
   ]
  },
  {
   "cell_type": "code",
   "execution_count": 18,
   "id": "70565f70",
   "metadata": {},
   "outputs": [
    {
     "name": "stdout",
     "output_type": "stream",
     "text": [
      "(1, 2, 3, 4, 5)\n"
     ]
    }
   ],
   "source": [
    "# Tuple\n",
    "print((1,2,3,4,5))"
   ]
  },
  {
   "cell_type": "code",
   "execution_count": 19,
   "id": "07ddbc5e",
   "metadata": {},
   "outputs": [
    {
     "name": "stdout",
     "output_type": "stream",
     "text": [
      "{1, 2, 3, 4, 5}\n"
     ]
    }
   ],
   "source": [
    "# Sets\n",
    "print({1,2,3,4,5})"
   ]
  },
  {
   "cell_type": "code",
   "execution_count": 20,
   "id": "edaa6963",
   "metadata": {},
   "outputs": [
    {
     "name": "stdout",
     "output_type": "stream",
     "text": [
      "{'Fucking': 'Shit', 'Dip': 'Shit', 'Piece': ['of', 'shit']}\n"
     ]
    }
   ],
   "source": [
    "# Dictionary \n",
    "print({\"Fucking\":\"Shit\",\"Dip\":\"Shit\",\"Piece\":['of','shit']})"
   ]
  },
  {
   "cell_type": "code",
   "execution_count": 21,
   "id": "7b6633bd",
   "metadata": {},
   "outputs": [
    {
     "data": {
      "text/plain": [
       "dict"
      ]
     },
     "execution_count": 21,
     "metadata": {},
     "output_type": "execute_result"
    }
   ],
   "source": [
    "# Type\n",
    "type({\"Oh\":\"Shit\"})"
   ]
  },
  {
   "cell_type": "markdown",
   "id": "3567d796",
   "metadata": {},
   "source": [
    "# 3. Variables"
   ]
  },
  {
   "cell_type": "code",
   "execution_count": 22,
   "id": "66467929",
   "metadata": {},
   "outputs": [],
   "source": [
    "# Static vs Dynamic typing\n",
    "# Static vs Dynamic Binding\n",
    "# Stylish declaration techniques"
   ]
  },
  {
   "cell_type": "code",
   "execution_count": 23,
   "id": "de6d11f2",
   "metadata": {},
   "outputs": [
    {
     "name": "stdout",
     "output_type": "stream",
     "text": [
      "Saad\n",
      "11\n"
     ]
    }
   ],
   "source": [
    "# C/C++\n",
    "name = \"Saad\"\n",
    "print(name)\n",
    "\n",
    "a = 5\n",
    "b = 6\n",
    "\n",
    "print(a+b)"
   ]
  },
  {
   "cell_type": "code",
   "execution_count": 22,
   "id": "d22918b0",
   "metadata": {},
   "outputs": [],
   "source": [
    "# Dynamic Typing\n",
    "a = 5\n",
    "# Static Typing\n",
    "#int a = 5"
   ]
  },
  {
   "cell_type": "code",
   "execution_count": 23,
   "id": "a24969eb",
   "metadata": {},
   "outputs": [
    {
     "name": "stdout",
     "output_type": "stream",
     "text": [
      "5\n",
      "Saad\n"
     ]
    }
   ],
   "source": [
    "# Dynamic Binding \n",
    "a = 5\n",
    "print(a)\n",
    "a = \"Saad\"\n",
    "print(a)\n",
    "\n",
    "# Static Binding\n",
    "#int a = 5"
   ]
  },
  {
   "cell_type": "code",
   "execution_count": 24,
   "id": "f512661e",
   "metadata": {},
   "outputs": [
    {
     "name": "stdout",
     "output_type": "stream",
     "text": [
      "1 2 4\n"
     ]
    }
   ],
   "source": [
    "a = 1 \n",
    "b = 2\n",
    "c = 4\n",
    "print(a,b,c)"
   ]
  },
  {
   "cell_type": "code",
   "execution_count": 25,
   "id": "19b7d3f9",
   "metadata": {},
   "outputs": [
    {
     "name": "stdout",
     "output_type": "stream",
     "text": [
      "1 2 4\n"
     ]
    }
   ],
   "source": [
    "a,b,c = 1,2,4\n",
    "print(a,b,c)"
   ]
  },
  {
   "cell_type": "code",
   "execution_count": 28,
   "id": "d4d4368b",
   "metadata": {},
   "outputs": [
    {
     "name": "stdout",
     "output_type": "stream",
     "text": [
      "5 5 5\n"
     ]
    }
   ],
   "source": [
    "a=b=c=5\n",
    "print(a,b,c)"
   ]
  },
  {
   "cell_type": "markdown",
   "id": "d530aa96",
   "metadata": {},
   "source": [
    "# Commments"
   ]
  },
  {
   "cell_type": "code",
   "execution_count": 29,
   "id": "e336feb5",
   "metadata": {},
   "outputs": [
    {
     "name": "stdout",
     "output_type": "stream",
     "text": [
      "9\n"
     ]
    }
   ],
   "source": [
    "# This a comment \n",
    "# HOW YOU DOIN'\n",
    "a = 4\n",
    "b = 5 #Study Dude\n",
    "# This also a comment \n",
    "print(a+b)"
   ]
  },
  {
   "cell_type": "markdown",
   "id": "2f9cddb6",
   "metadata": {},
   "source": [
    "# 4. Keywords and Identifiers "
   ]
  },
  {
   "cell_type": "code",
   "execution_count": 30,
   "id": "3ce023ea",
   "metadata": {},
   "outputs": [
    {
     "name": "stdout",
     "output_type": "stream",
     "text": [
      "['False', 'None', 'True', 'and', 'as', 'assert', 'async', 'await', 'break', 'class', 'continue', 'def', 'del', 'elif', 'else', 'except', 'finally', 'for', 'from', 'global', 'if', 'import', 'in', 'is', 'lambda', 'nonlocal', 'not', 'or', 'pass', 'raise', 'return', 'try', 'while', 'with', 'yield']\n"
     ]
    }
   ],
   "source": [
    "# Keywords\n",
    "import keyword\n",
    "\n",
    "keyword_list = keyword.kwlist\n",
    "print(keyword_list)"
   ]
  },
  {
   "cell_type": "code",
   "execution_count": 31,
   "id": "dae838ae",
   "metadata": {},
   "outputs": [
    {
     "name": "stdout",
     "output_type": "stream",
     "text": [
      "SAAD\n",
      "saad\n"
     ]
    }
   ],
   "source": [
    "# Identifiers \n",
    "# You can't start with a digit \n",
    "name1 = \"SAAD\"\n",
    "print(name1)\n",
    "# YOU can use special character -> _\n",
    "_     = 'saad'\n",
    "print(_)\n",
    "# identifiers can not be keywords"
   ]
  },
  {
   "cell_type": "markdown",
   "id": "e9726bc4",
   "metadata": {},
   "source": [
    "# Temp Heading "
   ]
  },
  {
   "cell_type": "markdown",
   "id": "55254bf0",
   "metadata": {},
   "source": [
    "# 5. User Input"
   ]
  },
  {
   "cell_type": "code",
   "execution_count": 32,
   "id": "356b7881",
   "metadata": {},
   "outputs": [
    {
     "name": "stdout",
     "output_type": "stream",
     "text": [
      " Enter whatever you want to enter here ps. email is preferred :)\n"
     ]
    },
    {
     "data": {
      "text/plain": [
       "''"
      ]
     },
     "execution_count": 32,
     "metadata": {},
     "output_type": "execute_result"
    }
   ],
   "source": [
    "# Static vs Dynamic \n",
    "input(\" Enter whatever you want to enter here ps. email is preferred :)\")"
   ]
  },
  {
   "cell_type": "code",
   "execution_count": 4,
   "id": "d07e5105",
   "metadata": {},
   "outputs": [
    {
     "name": "stdout",
     "output_type": "stream",
     "text": [
      "give9\n",
      "me3\n",
      "your4\n",
      "phone5\n",
      "number3\n",
      "and5\n",
      "have5\n",
      "an ANGEL5\n",
      "as your5\n",
      "contact;)6\n",
      "50\n"
     ]
    }
   ],
   "source": [
    "# Take input from users and store them in a variable\n",
    "first = int(input(\"give\"))\n",
    "second= int(input(\"me\"))\n",
    "third = int(input(\"your\"))\n",
    "fourth= int(input(\"phone\"))\n",
    "fifth = int(input(\"number\"))\n",
    "sixth = int(input(\"and\"))\n",
    "seventh=int(input(\"have\"))\n",
    "eight = int(input(\"an ANGEL\"))\n",
    "ninth  = int(input(\"as your\"))\n",
    "tenth = int(input(\"contact;)\"))\n",
    "#print(type())\n",
    "# add the 2 variables\n",
    "Ten_number_ticket_to_an_angel=first,secd+third+fourth+fifth+sixth+seventh+eight+ninth+tenth\n",
    "# print the result \n",
    "print(Ten_number_ticket_to_an_angel)"
   ]
  },
  {
   "cell_type": "markdown",
   "id": "bae12474",
   "metadata": {},
   "source": [
    "# 6. Type Conversion"
   ]
  },
  {
   "cell_type": "markdown",
   "id": "3ec45bcb",
   "metadata": {},
   "source": [
    "# Implicit vs Explicit\n",
    "print(5+5.6)\n",
    "print(type(5),type(5.6))\n",
    "\n",
    "print(4+\"4\")"
   ]
  },
  {
   "cell_type": "code",
   "execution_count": 37,
   "id": "57b808a3",
   "metadata": {},
   "outputs": [
    {
     "name": "stdout",
     "output_type": "stream",
     "text": [
      "1\n"
     ]
    },
    {
     "data": {
      "text/plain": [
       "453.0"
      ]
     },
     "execution_count": 37,
     "metadata": {},
     "output_type": "execute_result"
    }
   ],
   "source": [
    "# Explicit\n",
    "# str -> int\n",
    "# int(4+5j)\n",
    "\n",
    "# int to str\n",
    "print(str(1))\n",
    "\n",
    "# float\n",
    "float(453)"
   ]
  },
  {
   "cell_type": "markdown",
   "id": "384816a6",
   "metadata": {},
   "source": [
    "# 7. Literals"
   ]
  },
  {
   "cell_type": "code",
   "execution_count": 7,
   "id": "4f75c19c",
   "metadata": {},
   "outputs": [
    {
     "name": "stdout",
     "output_type": "stream",
     "text": [
      "10\n",
      "42\n",
      "42\n",
      "42\n"
     ]
    }
   ],
   "source": [
    "binary_literal = 0b1010\n",
    "decimal_literal = 42\n",
    "octal_literal = 0o52\n",
    "hexadecimal_literal = 0x2A\n",
    "\n",
    "print(binary_literal)        # Output: 10\n",
    "print(decimal_literal)       # Output: 42\n",
    "print(octal_literal)         # Output: 42\n",
    "print(hexadecimal_literal)   # Output: 42"
   ]
  },
  {
   "cell_type": "code",
   "execution_count": 13,
   "id": "67689429",
   "metadata": {},
   "outputs": [
    {
     "name": "stdout",
     "output_type": "stream",
     "text": [
      "10.5 15000.0 0.015\n"
     ]
    }
   ],
   "source": [
    "# FLoat Literal\n",
    "float_1 = 10.5\n",
    "float_2 = 1.5e4 # 1.5*10^4\n",
    "float_3 = 1.5e-2# 1.5*10^-2\n",
    "\n",
    "print(float_1,\n",
    "      float_2,\n",
    "      float_3)"
   ]
  },
  {
   "cell_type": "code",
   "execution_count": 15,
   "id": "1eee38e7",
   "metadata": {},
   "outputs": [
    {
     "name": "stdout",
     "output_type": "stream",
     "text": [
      "3.14j 3.14 0.0\n"
     ]
    }
   ],
   "source": [
    "# complex Literal \n",
    "x = 3.14j\n",
    "print(x,x.imag,x.real)"
   ]
  },
  {
   "cell_type": "code",
   "execution_count": 16,
   "id": "e7203100",
   "metadata": {},
   "outputs": [
    {
     "name": "stdout",
     "output_type": "stream",
     "text": [
      "3.14\n"
     ]
    }
   ],
   "source": [
    "# Binary\n",
    "x = 3.14j\n",
    "print(x.imag)"
   ]
  },
  {
   "cell_type": "code",
   "execution_count": 32,
   "id": "40bdae6d",
   "metadata": {},
   "outputs": [
    {
     "name": "stdout",
     "output_type": "stream",
     "text": [
      "Beta free rehte ho studies par dhyaan do or successful insan bano\n",
      "Seh lo ge aap\n",
      "U\n",
      "Playing tricks is evilness. Understanding tricks is cleverness but not doing both is innocence.\n",
      "(['Hello, 你好,வணக்கம்'], ['😀😆🤣'])\n",
      "raw \\n string\n"
     ]
    }
   ],
   "source": [
    "relative_string = \"Beta free rehte ho studies par dhyaan do or successful insan bano\"\n",
    "me_string       = \"Seh lo ge aap\"\n",
    "character       =   \"U\"\n",
    "multiline_string= \"\"\"Playing tricks is evilness. Understanding tricks is cleverness but not doing both is innocence.\"\"\"\n",
    "unicode         = ([\"Hello, 你好,வணக்கம்\"],[\"\\U0001f600\\U0001F606\\U0001F923\"])\n",
    "raw_string      = r\"raw \\n string\" #while raw strings treat backslashes as literal characters, they still obey \n",
    "                                    #escape sequences for quotes (' and \") and triple quotes (''' and \"\"\").\n",
    "print(relative_string)\n",
    "print(me_string)\n",
    "print(character)\n",
    "print(multiline_string)\n",
    "print(unicode)\n",
    "print(raw_string)"
   ]
  },
  {
   "cell_type": "code",
   "execution_count": 26,
   "id": "22486972",
   "metadata": {},
   "outputs": [
    {
     "name": "stdout",
     "output_type": "stream",
     "text": [
      "a: 5\n",
      "b: 10\n"
     ]
    }
   ],
   "source": [
    "a = True + 4 #True = 1\n",
    "b = False+10 #False=0\n",
    "\n",
    "print(\"a:\",a)\n",
    "print(\"b:\",b)"
   ]
  },
  {
   "cell_type": "code",
   "execution_count": 27,
   "id": "135d28ab",
   "metadata": {},
   "outputs": [
    {
     "name": "stdout",
     "output_type": "stream",
     "text": [
      "Program exe\n"
     ]
    }
   ],
   "source": [
    "p = None\n",
    "a = 4\n",
    "b=  5\n",
    "print('Program exe')"
   ]
  },
  {
   "cell_type": "markdown",
   "id": "633bd907",
   "metadata": {},
   "source": [
    "# 8. Operators"
   ]
  },
  {
   "cell_type": "code",
   "execution_count": 28,
   "id": "916c2e4e",
   "metadata": {},
   "outputs": [],
   "source": [
    "# arithmetic\n",
    "# relational\n",
    "# logical\n",
    "# bitwise\n",
    "# assignment\n",
    "# membership"
   ]
  },
  {
   "cell_type": "code",
   "execution_count": 2,
   "id": "ca21cd7d",
   "metadata": {},
   "outputs": [
    {
     "name": "stdout",
     "output_type": "stream",
     "text": [
      "11\n",
      "-1\n",
      "30\n",
      "2.5\n",
      "2\n",
      "1\n",
      "25\n"
     ]
    }
   ],
   "source": [
    "# Arithmetic Operators\n",
    "print(5 + 6)   # Addition: 5 + 6 = 11\n",
    "print(5 - 6)   # Subtraction: 5 - 6 = -1\n",
    "print(5 * 6)   # Multiplication: 5 * 6 = 30\n",
    "print(5 / 2)   # Division: 5 / 2 = 2.5\n",
    "print(5 // 2)  # Floor Division: 5 // 2 = 2 (integer division, discards the fractional part)\n",
    "print(5 % 2)   # Modulus: 5 % 2 = 1 (remainder of the division)\n",
    "print(5 ** 2)  # Exponentiation: 5 ** 2 = 25 (5 raised to the power of 2)\n"
   ]
  },
  {
   "cell_type": "code",
   "execution_count": 4,
   "id": "0f7b0f47",
   "metadata": {},
   "outputs": [
    {
     "name": "stdout",
     "output_type": "stream",
     "text": [
      "False\n",
      "True\n",
      "True\n",
      "True\n",
      "True\n",
      "False\n"
     ]
    }
   ],
   "source": [
    "# Relational Operators\n",
    "print(4 > 5)   # False (4 is not greater than 5)\n",
    "print(4 < 5)   # True (4 is less than 5)\n",
    "print(4 >= 4)  # True (4 is greater than or equal to 4)\n",
    "print(4 <= 4)  # True (4 is less than or equal to 4)\n",
    "print(4 == 4)  # True (4 is equal to 4)\n",
    "print(4 != 4)  # False (4 is not not equal to 4, which means it is equal)"
   ]
  },
  {
   "cell_type": "code",
   "execution_count": 6,
   "id": "ec6b2417",
   "metadata": {},
   "outputs": [
    {
     "name": "stdout",
     "output_type": "stream",
     "text": [
      "0\n",
      "1\n",
      "True\n"
     ]
    }
   ],
   "source": [
    "# Logical operators\n",
    "print(1 and 0)\n",
    "print(1 or 0)\n",
    "print(not 0)\n",
    "print(not 1)"
   ]
  },
  {
   "cell_type": "code",
   "execution_count": 8,
   "id": "7202b32b",
   "metadata": {},
   "outputs": [
    {
     "name": "stdout",
     "output_type": "stream",
     "text": [
      "2\n",
      "3\n",
      "1\n",
      "-4\n",
      "1\n",
      "20\n"
     ]
    }
   ],
   "source": [
    "# Bitwise Operators :\n",
    "\n",
    "# Bitwise and \n",
    "print(2 & 3)\n",
    "\n",
    "# Bitwise or\n",
    "print(2|3)\n",
    "\n",
    "#Bitwise xor\n",
    "# Bitwise XOR\n",
    "print(2 ^ 3)   # Output: 1 (Binary: 0010 XOR 0011 = 0001)\n",
    "\n",
    "# Bitwise NOT\n",
    "print(~3)      # Output: -4 (Binary: NOT(0011) = 1100, the result is a two's complement binary representation, so -4 in decimal)\n",
    "\n",
    "# Bitwise Right Shift\n",
    "print(4 >> 2)  # Output: 1 (Binary: 0100 >> 2 = 0001)\n",
    "\n",
    "# Bitwise Left Shift\n",
    "print(5 << 2)  # Output: 20 (Binary: 0101 << 2 = 10100)"
   ]
  },
  {
   "cell_type": "code",
   "execution_count": 9,
   "id": "77728625",
   "metadata": {},
   "outputs": [
    {
     "name": "stdout",
     "output_type": "stream",
     "text": [
      "1\n"
     ]
    }
   ],
   "source": [
    "# Assignment Operators\n",
    "\n",
    "a  = 2 # Assigns the value 2 to variable a \n",
    "\n",
    "a %= 2 # Modifies a to be equal to its value modulo 2 (which  is 0)\n",
    "\n",
    "# increament a by 1 using +=\n",
    "a += 1 # Equivalent to a = a+1\n",
    "\n",
    "print(a)  # Output will be 1"
   ]
  },
  {
   "cell_type": "code",
   "execution_count": 13,
   "id": "9061850c",
   "metadata": {},
   "outputs": [
    {
     "name": "stdout",
     "output_type": "stream",
     "text": [
      "True\n",
      "True\n",
      "False\n"
     ]
    }
   ],
   "source": [
    "# Membership Operators \n",
    "# in/not in\n",
    "\n",
    "print('peace' not in \"Peace is not in my Life.\")\n",
    "\n",
    "print('dark' in \"World is dark, atleast for me.\")\n",
    "\n",
    "print(1 in [3,4,2,4,2,4,5,6,7])"
   ]
  },
  {
   "cell_type": "code",
   "execution_count": 21,
   "id": "c9317ecf",
   "metadata": {},
   "outputs": [
    {
     "name": "stdout",
     "output_type": "stream",
     "text": [
      "Enter any number it will ony calculate the addition of last 3 digit : 3344654376\n",
      "Sum of the digits: 16\n"
     ]
    }
   ],
   "source": [
    "# Program - Find the sum of the last 3 digit number entered by the user\n",
    "\n",
    "# Prompting the user to enter a 3 digit number\n",
    "number = int(input('Enter any number it will ony calculate the addition of last 3 digit : '))\n",
    "\n",
    "# Extracting individual digits using modulo and integer division\n",
    "a = number % 10\n",
    "number = number // 10\n",
    "\n",
    "b = number % 10\n",
    "number = number // 10\n",
    "\n",
    "c = number % 10\n",
    "\n",
    "# Computing and printing the sum of the digits\n",
    "print(\"Sum of the digits:\", a + b + c)\n"
   ]
  },
  {
   "cell_type": "markdown",
   "id": "20648974",
   "metadata": {},
   "source": [
    "# if - else in python"
   ]
  },
  {
   "cell_type": "code",
   "execution_count": 6,
   "id": "82e2a508",
   "metadata": {},
   "outputs": [
    {
     "name": "stdout",
     "output_type": "stream",
     "text": [
      "Teen number daal aur jaadu dekh:\n",
      "pehle ek no. daal:3\n",
      "ab dusra daalde:4\n",
      "teesra bhi daal hi de:5\n",
      "aaila jaadu: 12\n"
     ]
    }
   ],
   "source": [
    " #                     [  Ultimate Jaadu   ]\n",
    "#Program - Find the sum of the 3 digit number entered by the user\n",
    "\n",
    "def add_three_digits():\n",
    "    num1 = int(input(\"pehle ek no. daal:\"))\n",
    "    num2 = int(input(\"ab dusra daalde:\"))\n",
    "    num3 = int(input(\"teesra bhi daal hi de:\"))\n",
    "    # Check if all numbers are three digits\n",
    "    if 0<=num1<=9 and 0<=num2<=9 and 0<=num3<=9:\n",
    "        jaadu = num1+num2+num3\n",
    "        return jaadu\n",
    "    else:\n",
    "        return \"never-Try Again\"\n",
    "    \n",
    "# Example usage:\n",
    "print(\"Teen number daal aur jaadu dekh:\")\n",
    "print(\"aaila jaadu:\", add_three_digits())"
   ]
  },
  {
   "cell_type": "code",
   "execution_count": 4,
   "id": "bbda6b23",
   "metadata": {},
   "outputs": [
    {
     "name": "stdout",
     "output_type": "stream",
     "text": [
      "apna email bataiye :datadudesaadkhan@gmail.com\n",
      "kuch huwa tow hamari responsibility nahi hai:TheSearch\n",
      "Dimak ke andhe password galat dala hai tunne\n",
      "Abki baar dhang se daalTheMockingbird\n",
      "Tum se na ho paega\n"
     ]
    }
   ],
   "source": [
    "#                                               [Gaand faadu code]\n",
    "# login program and indentation\n",
    "# email --> datadudesaadkhan@gmail.com\n",
    "# password --> Baigan\n",
    "\n",
    "email = input(\"apna email bataiye :\")\n",
    "password = input(\"kuch huwa tow hamari responsibility nahi hai:\")\n",
    "\n",
    "if email == \"datadudesaadkhan@gmail.com\" and password ==\"Baigan\":\n",
    "    print(\"Welcome user\")\n",
    "elif email == \"datadudesaadkhan@gmail.com\" and password !=\"Baigan\":\n",
    "    # tell the user\n",
    "    print(\"Dimak ke andhe password galat dala hai tunne\")\n",
    "    password=input(\"Abki baar dhang se daal\")\n",
    "    if password ==\"Baigan\":\n",
    "        print(\"Subha ka bhula , shaam ko wapas agaya\")\n",
    "    else:\n",
    "        print(\"Tum se na ho paega\")\n",
    "else:\n",
    "    print(\"Gian he aap ==> [p.s. Doremon waala]\")"
   ]
  },
  {
   "cell_type": "code",
   "execution_count": null,
   "id": "abed2a9e",
   "metadata": {},
   "outputs": [],
   "source": [
    "# menu driven calculater\n",
    "menu = input(\"\"\"\n",
    "Aur bhai calculate karne ke liye paisa bhi tow hona chaiye :( \n",
    "1. Pin change karega tow 1 daba\n",
    "2.Paisa kitna hai pata karne ka hai tow 2 daba\n",
    "3.Paisa nikal na hai tow 3 daba ps. agar hoga tabhi niklega\n",
    "4.Wapas jaana hai tow 4 daba\n",
    "\"\"\")\n",
    "\n",
    "if menu =='1':\n",
    "    print('pin change')\n",
    "elif menu=='2':\n",
    "    print('le balance dekh')\n",
    "else:\n",
    "    print('Wapas bhejo isko')"
   ]
  },
  {
   "cell_type": "markdown",
   "id": "882e10f7",
   "metadata": {},
   "source": [
    "# Modules in Python\n",
    "math\n",
    "\n",
    "keywords\n",
    "\n",
    "random\n",
    "\n",
    "datetime"
   ]
  },
  {
   "cell_type": "code",
   "execution_count": 57,
   "id": "0578c918",
   "metadata": {},
   "outputs": [
    {
     "data": {
      "text/plain": [
       "15.0"
      ]
     },
     "execution_count": 57,
     "metadata": {},
     "output_type": "execute_result"
    }
   ],
   "source": [
    "# math\n",
    "import math\n",
    "math.sqrt(225)"
   ]
  },
  {
   "cell_type": "code",
   "execution_count": 58,
   "id": "f37d9ba4",
   "metadata": {},
   "outputs": [
    {
     "name": "stdout",
     "output_type": "stream",
     "text": [
      "['False', 'None', 'True', 'and', 'as', 'assert', 'async', 'await', 'break', 'class', 'continue', 'def', 'del', 'elif', 'else', 'except', 'finally', 'for', 'from', 'global', 'if', 'import', 'in', 'is', 'lambda', 'nonlocal', 'not', 'or', 'pass', 'raise', 'return', 'try', 'while', 'with', 'yield']\n"
     ]
    }
   ],
   "source": [
    "# Keyword\n",
    "import keyword\n",
    "print(keyword.kwlist)"
   ]
  },
  {
   "cell_type": "code",
   "execution_count": 69,
   "id": "df3960e1",
   "metadata": {},
   "outputs": [
    {
     "name": "stdout",
     "output_type": "stream",
     "text": [
      "17\n",
      "0.5383122957066993\n",
      "10.627510561420028\n"
     ]
    }
   ],
   "source": [
    "# random\n",
    "import random\n",
    "# Generate a random integer between a specified range (inclusive)\n",
    "random_number = random.randint(1, 100)\n",
    "print(random_number)\n",
    "# Generate a random floating-point number between 0 and 1\n",
    "random_float = random.random()\n",
    "print(random_float)\n",
    "# Generate a random floating-point number between a specified range\n",
    "random_float_range = random.uniform(10.5,31.5)\n",
    "print(random_float_range)"
   ]
  },
  {
   "cell_type": "code",
   "execution_count": 72,
   "id": "aa450fd9",
   "metadata": {},
   "outputs": [
    {
     "name": "stdout",
     "output_type": "stream",
     "text": [
      "2024-03-07 16:17:19.617753\n",
      "2024-03-07 16:17:19\n",
      "2024-03-07 12:30:45\n"
     ]
    }
   ],
   "source": [
    "# Datetime\n",
    "import datetime\n",
    "# Get the current date and time\n",
    "current_datetime = datetime.datetime.now()\n",
    "print(current_datetime)\n",
    "# Format a datetime object\n",
    "formatted_datetime = current_datetime.strftime(\"%Y-%m-%d %H:%M:%S\")\n",
    "print(formatted_datetime)\n",
    "# Parse a string into a datetime object\n",
    "parsed_datetime = datetime.datetime.strptime(\"2024-03-07 12:30:45\", \"%Y-%m-%d %H:%M:%S\")\n",
    "print(parsed_datetime)"
   ]
  },
  {
   "cell_type": "code",
   "execution_count": 21,
   "id": "4e16111d",
   "metadata": {},
   "outputs": [
    {
     "name": "stdout",
     "output_type": "stream",
     "text": [
      "\n",
      "Please wait a moment while I gather a list of all available modules...\n",
      "\n"
     ]
    },
    {
     "name": "stderr",
     "output_type": "stream",
     "text": [
      "WARNING: AstropyDeprecationWarning: The private astropy._erfa module has been made into its own package, pyerfa, which is a dependency of astropy and can be imported directly using \"import erfa\" [astropy._erfa]\n",
      "C:\\Users\\mrsaa\\anaconda3\\Lib\\site-packages\\paramiko\\transport.py:219: CryptographyDeprecationWarning: Blowfish has been deprecated\n",
      "  \"class\": algorithms.Blowfish,\n",
      "\n",
      "KeyboardInterrupt\n",
      "\n"
     ]
    }
   ],
   "source": [
    "help('modules')"
   ]
  },
  {
   "cell_type": "markdown",
   "id": "4f58ba39",
   "metadata": {},
   "source": [
    "# Loops in Python\n",
    "\n",
    "Need for Loops\n",
    "\n",
    "While Loop\n",
    "\n",
    "For Loop"
   ]
  },
  {
   "cell_type": "code",
   "execution_count": 74,
   "id": "de78fc99",
   "metadata": {},
   "outputs": [],
   "source": [
    "# While loop example -> program to print the table\n",
    "# Program -> Sum of all digits of a given number\n",
    "# Program -> keep accepting numbers from users till he/she enters a 0 and then find the avg"
   ]
  },
  {
   "cell_type": "code",
   "execution_count": 78,
   "id": "01e0f0f0",
   "metadata": {},
   "outputs": [
    {
     "name": "stdout",
     "output_type": "stream",
     "text": [
      "enter the number3\n",
      "3 * 1 = 3\n",
      "3 * 2 = 6\n",
      "3 * 3 = 9\n",
      "3 * 4 = 12\n",
      "3 * 5 = 15\n",
      "3 * 6 = 18\n",
      "3 * 7 = 21\n",
      "3 * 8 = 24\n",
      "3 * 9 = 27\n",
      "3 * 10 = 30\n"
     ]
    }
   ],
   "source": [
    "number = int(input('enter the number'))\n",
    "\n",
    "i = 1\n",
    "\n",
    "while i<11:\n",
    "  print(number,'*',i,'=',number * i)\n",
    "  i += 1"
   ]
  },
  {
   "cell_type": "code",
   "execution_count": 4,
   "id": "e6255027",
   "metadata": {},
   "outputs": [
    {
     "name": "stdout",
     "output_type": "stream",
     "text": [
      "1\n",
      "2\n",
      "3\n",
      "4\n",
      "5\n",
      "6\n",
      "7\n",
      "8\n",
      "9\n",
      "10\n",
      "11\n",
      "Bohot ho gaya\n"
     ]
    }
   ],
   "source": [
    "# while loop with else \n",
    "x = 1\n",
    "while x<12:\n",
    " print(x)\n",
    " x += 1\n",
    "        \n",
    "else:\n",
    " print('Bohot ho gaya')"
   ]
  },
  {
   "cell_type": "code",
   "execution_count": 5,
   "id": "3d72e68a",
   "metadata": {},
   "outputs": [
    {
     "name": "stdout",
     "output_type": "stream",
     "text": [
      "bolo bacha12\n",
      "galat jawab! high ho jao\n",
      "bolo bacha45\n",
      "galat jawab! low jao\n",
      "bolo bacha35\n",
      "galat jawab! low jao\n",
      "bolo bacha16\n",
      "galat jawab! high ho jao\n",
      "bolo bacha25\n",
      "galat jawab! high ho jao\n",
      "bolo bacha29\n",
      "galat jawab! low jao\n",
      "bolo bacha34\n",
      "galat jawab! low jao\n",
      "bolo bacha32\n",
      "galat jawab! low jao\n",
      "bolo bacha30\n",
      "galat jawab! low jao\n",
      "bolo bacha27\n",
      "sahi jawab\n",
      "your_chanches 10\n"
     ]
    }
   ],
   "source": [
    "# kon bane ga crorepati \n",
    " # generate a random integer between 1 to 100\n",
    "import random\n",
    "jaadu = random.randint(1,100)\n",
    "guess = int(input(\"bolo bacha\"))\n",
    "counter = 1\n",
    "while guess != jaadu:\n",
    "    if guess < jaadu:\n",
    "      print('galat jawab! high ho jao')\n",
    "    else:\n",
    "      print('galat jawab! low jao')\n",
    "            \n",
    "    guess = int(input('bolo bacha'))\n",
    "    counter+=1\n",
    "else:\n",
    "    print('sahi jawab')\n",
    "    print('your_chanches',counter)"
   ]
  },
  {
   "cell_type": "code",
   "execution_count": 7,
   "id": "9ddf4505",
   "metadata": {},
   "outputs": [
    {
     "name": "stdout",
     "output_type": "stream",
     "text": [
      "1\n",
      "2\n",
      "3\n",
      "4\n",
      "5\n"
     ]
    }
   ],
   "source": [
    "# For loop demo\n",
    "  \n",
    "for i in {1,2,3,4,5}:\n",
    "    print(i)"
   ]
  },
  {
   "cell_type": "code",
   "execution_count": 8,
   "id": "105eff87",
   "metadata": {},
   "outputs": [],
   "source": [
    "# For loop examples"
   ]
  },
  {
   "cell_type": "markdown",
   "id": "85a1e744",
   "metadata": {},
   "source": [
    "Program - The current population of a town is 10000. The population of the town is increasing at the rate of 10% per year. You have to write a program to find out the population at the end of each of the last 10 years."
   ]
  },
  {
   "cell_type": "code",
   "execution_count": 9,
   "id": "922ab86b",
   "metadata": {},
   "outputs": [
    {
     "name": "stdout",
     "output_type": "stream",
     "text": [
      "10 10000\n",
      "9 9000.0\n",
      "8 8100.0\n",
      "7 7290.0\n",
      "6 6561.0\n",
      "5 5904.9\n",
      "4 5314.41\n",
      "3 4782.969\n",
      "2 4304.6721\n",
      "1 3874.20489\n"
     ]
    }
   ],
   "source": [
    "curr_pop = 10000\n",
    "\n",
    "for i in range(10,0,-1):\n",
    "    print(i,curr_pop)\n",
    "    curr_pop = curr_pop-0.1*curr_pop"
   ]
  },
  {
   "cell_type": "markdown",
   "id": "65303e1a",
   "metadata": {},
   "source": [
    "# Sequence sum"
   ]
  },
  {
   "cell_type": "code",
   "execution_count": 12,
   "id": "ddc135e0",
   "metadata": {},
   "outputs": [],
   "source": [
    "import math"
   ]
  },
  {
   "cell_type": "code",
   "execution_count": 13,
   "id": "3dcc8c76",
   "metadata": {},
   "outputs": [
    {
     "data": {
      "text/plain": [
       "120"
      ]
     },
     "execution_count": 13,
     "metadata": {},
     "output_type": "execute_result"
    }
   ],
   "source": [
    "math.factorial(5)"
   ]
  },
  {
   "cell_type": "code",
   "execution_count": 19,
   "id": "199bcb43",
   "metadata": {},
   "outputs": [
    {
     "name": "stdout",
     "output_type": "stream",
     "text": [
      "Sum of the sequence: 2.5\n"
     ]
    }
   ],
   "source": [
    "sequence = [(1/math.factorial(1))+(2/math.factorial(2))+(3/math.factorial(3))]\n",
    "total = sum(sequence)\n",
    "print(\"Sum of the sequence:\", total)"
   ]
  },
  {
   "cell_type": "code",
   "execution_count": 15,
   "id": "5a23b83d",
   "metadata": {},
   "outputs": [
    {
     "name": "stdout",
     "output_type": "stream",
     "text": [
      "1\n",
      "1\n",
      "2\n",
      "6\n",
      "24\n"
     ]
    }
   ],
   "source": [
    "for i in range(5):\n",
    "    print(math.factorial(i))"
   ]
  },
  {
   "cell_type": "code",
   "execution_count": 20,
   "id": "df08e733",
   "metadata": {},
   "outputs": [
    {
     "name": "stdout",
     "output_type": "stream",
     "text": [
      "Sum of the sequence: 15\n"
     ]
    }
   ],
   "source": [
    "sequence = [1, 2, 3, 4, 5]\n",
    "total = sum(sequence)\n",
    "print(\"Sum of the sequence:\", total)"
   ]
  },
  {
   "cell_type": "code",
   "execution_count": 4,
   "id": "b8e3632b",
   "metadata": {},
   "outputs": [
    {
     "name": "stdout",
     "output_type": "stream",
     "text": [
      "enter n6\n",
      "2.7166666666666663\n"
     ]
    }
   ],
   "source": [
    "n = int(input('enter n'))\n",
    " \n",
    "result = 0\n",
    "fact = 1\n",
    "\n",
    "for i in range (1,n+1):\n",
    "    fact = fact*i\n",
    "    result = result+i/fact\n",
    "    \n",
    "print(result)"
   ]
  },
  {
   "cell_type": "markdown",
   "id": "1251bbcd",
   "metadata": {},
   "source": [
    "# Nested Loops"
   ]
  },
  {
   "cell_type": "code",
   "execution_count": 5,
   "id": "ed9a2170",
   "metadata": {},
   "outputs": [
    {
     "name": "stdout",
     "output_type": "stream",
     "text": [
      "1 1\n",
      "1 2\n",
      "1 3\n",
      "1 4\n",
      "2 1\n",
      "2 2\n",
      "2 3\n",
      "2 4\n",
      "3 1\n",
      "3 2\n",
      "3 3\n",
      "3 4\n",
      "4 1\n",
      "4 2\n",
      "4 3\n",
      "4 4\n"
     ]
    }
   ],
   "source": [
    "# Examples --> unique pairs\n",
    "\n",
    "for i in range(1,5):\n",
    "    for j in range(1,5):\n",
    "        print(i,j)"
   ]
  },
  {
   "cell_type": "markdown",
   "id": "661ff918",
   "metadata": {},
   "source": [
    "# Pattern 1"
   ]
  },
  {
   "cell_type": "markdown",
   "id": "fac90dc4",
   "metadata": {},
   "source": [
    "*\n",
    "\n",
    "**\n",
    "\n",
    "***"
   ]
  },
  {
   "cell_type": "code",
   "execution_count": 13,
   "id": "fa8d3985",
   "metadata": {},
   "outputs": [
    {
     "name": "stdout",
     "output_type": "stream",
     "text": [
      "enter the number of rows4\n",
      "*\n",
      "**\n",
      "***\n",
      "****\n"
     ]
    }
   ],
   "source": [
    "# Code here\n",
    "rows = int(input('enter the number of rows'))\n",
    "\n",
    "for i in range(1,rows+1):\n",
    "    for j in range(1,i+1):\n",
    "        print('*',end='')\n",
    "    print()"
   ]
  },
  {
   "cell_type": "markdown",
   "id": "f5b2d983",
   "metadata": {},
   "source": [
    "pattern 2\n",
    "\n",
    "1\n",
    "\n",
    "121\n",
    "\n",
    "12321\n",
    "\n",
    "1234321"
   ]
  },
  {
   "cell_type": "code",
   "execution_count": 17,
   "id": "06dd3708",
   "metadata": {},
   "outputs": [
    {
     "name": "stdout",
     "output_type": "stream",
     "text": [
      "enter number of rows4\n",
      "1\n",
      "121\n",
      "12321\n",
      "1234321\n"
     ]
    }
   ],
   "source": [
    "# Code here\n",
    "rows = int(input('enter number of rows'))\n",
    "\n",
    "for i in range(1,rows+1):\n",
    "    for j in range(1,i+1):\n",
    "        print(j,end=\"\")\n",
    "    for k in range(i-1,0,-1):\n",
    "        print(k,end=\"\")\n",
    "        \n",
    "    print()\n"
   ]
  },
  {
   "cell_type": "markdown",
   "id": "deeafec6",
   "metadata": {},
   "source": [
    "# Loop Control Statement\n",
    "\n",
    "Break\n",
    "\n",
    "Continue\n",
    "\n",
    "Pass"
   ]
  },
  {
   "cell_type": "code",
   "execution_count": 18,
   "id": "8b35c697",
   "metadata": {},
   "outputs": [
    {
     "name": "stdout",
     "output_type": "stream",
     "text": [
      "1\n",
      "2\n",
      "3\n",
      "4\n"
     ]
    }
   ],
   "source": [
    "for i in range(1,10):\n",
    "    if i == 5:\n",
    "        break\n",
    "    print(i)"
   ]
  },
  {
   "cell_type": "code",
   "execution_count": 21,
   "id": "cd13771e",
   "metadata": {},
   "outputs": [
    {
     "name": "stdout",
     "output_type": "stream",
     "text": [
      "Enter lower range: 2\n",
      "Enter upper range: 100\n",
      "2\n",
      "3\n",
      "5\n",
      "7\n",
      "11\n",
      "13\n",
      "17\n",
      "19\n",
      "23\n",
      "29\n",
      "31\n",
      "37\n",
      "41\n",
      "43\n",
      "47\n",
      "53\n",
      "59\n",
      "61\n",
      "67\n",
      "71\n",
      "73\n",
      "79\n",
      "83\n",
      "89\n",
      "97\n"
     ]
    }
   ],
   "source": [
    "lower = int(input('Enter lower range: '))\n",
    "upper = int(input('Enter upper range: '))\n",
    "\n",
    "for i in range(lower, upper + 1):\n",
    "    if i > 1:\n",
    "        for j in range(2, int(i ** 0.5) + 1):\n",
    "            if i % j == 0:\n",
    "                break\n",
    "        else:\n",
    "            print(i)\n"
   ]
  },
  {
   "cell_type": "code",
   "execution_count": 26,
   "id": "ec562055",
   "metadata": {},
   "outputs": [
    {
     "name": "stdout",
     "output_type": "stream",
     "text": [
      "1\n",
      "2\n",
      "3\n",
      "4\n",
      "6\n",
      "7\n",
      "8\n",
      "9\n"
     ]
    }
   ],
   "source": [
    "# Continue \n",
    "for i in range (1,10):\n",
    "    if i==5:\n",
    "        continue\n",
    "    print(i)\n",
    "#when i is equal to 5, the print(i) statement is skipped due to the continue statement, and the loop continues with the next value of i."
   ]
  },
  {
   "cell_type": "code",
   "execution_count": 31,
   "id": "8f6a2dfa",
   "metadata": {},
   "outputs": [
    {
     "name": "stdout",
     "output_type": "stream",
     "text": [
      "9\n"
     ]
    }
   ],
   "source": [
    "for i in range (1,10):\n",
    "    pass\n",
    "print(i)\n",
    "#This behavior is because i retains its value after the loop ends due to its scope in Python'"
   ]
  },
  {
   "cell_type": "raw",
   "id": "243a5b91",
   "metadata": {},
   "source": [
    "Strings are sequence of characters\n",
    "\n",
    "In python specifically , strings are a sequence of unicode characters\n",
    "Creating Strings\n",
    "Accessing Strings\n",
    "Adding Chars to String\n",
    "Editing Strings\n",
    "Deleting Strings\n",
    "Operations on Strings\n",
    "String Functions\n"
   ]
  },
  {
   "cell_type": "markdown",
   "id": "a4dfa91c",
   "metadata": {},
   "source": [
    "# Creating Strings"
   ]
  },
  {
   "cell_type": "code",
   "execution_count": 33,
   "id": "2cfabb76",
   "metadata": {},
   "outputs": [
    {
     "name": "stdout",
     "output_type": "stream",
     "text": [
      "hello\n"
     ]
    }
   ],
   "source": [
    "s = \"hello\"\n",
    "s = 'hello'\n",
    "#Multiline strings\n",
    "s = '''hello'''\n",
    "s = \"\"\"hello\"\"\"\n",
    "s = str('hello')\n",
    "print(s)"
   ]
  },
  {
   "cell_type": "code",
   "execution_count": 38,
   "id": "91ca9438",
   "metadata": {},
   "outputs": [
    {
     "data": {
      "text/plain": [
       "'Skin to Skin is not enough , I want to take a nap inside your ribcage.'"
      ]
     },
     "execution_count": 38,
     "metadata": {},
     "output_type": "execute_result"
    }
   ],
   "source": [
    "'Skin to Skin is not enough , I want to take a nap inside your ribcage.'"
   ]
  },
  {
   "cell_type": "markdown",
   "id": "e9c39e8d",
   "metadata": {},
   "source": [
    "# Accessing Substrings from a String"
   ]
  },
  {
   "cell_type": "code",
   "execution_count": 39,
   "id": "328fea25",
   "metadata": {},
   "outputs": [
    {
     "name": "stdout",
     "output_type": "stream",
     "text": [
      "a\n"
     ]
    }
   ],
   "source": [
    "# Positive Indexing \n",
    "s = 'Dead World'\n",
    "print(s[2])"
   ]
  },
  {
   "cell_type": "code",
   "execution_count": 40,
   "id": "cfccbf1a",
   "metadata": {},
   "outputs": [
    {
     "name": "stdout",
     "output_type": "stream",
     "text": [
      "r\n"
     ]
    }
   ],
   "source": [
    "# Negative Indexing\n",
    "s = 'Dead World'\n",
    "print(s[-3])"
   ]
  },
  {
   "cell_type": "code",
   "execution_count": 41,
   "id": "6fe7d85f",
   "metadata": {},
   "outputs": [
    {
     "name": "stdout",
     "output_type": "stream",
     "text": [
      "o a\n"
     ]
    }
   ],
   "source": [
    "# Slicing\n",
    "s = 'Dead World'\n",
    "print(s[6:0:-2])"
   ]
  },
  {
   "cell_type": "code",
   "execution_count": 44,
   "id": "384e631d",
   "metadata": {},
   "outputs": [
    {
     "name": "stdout",
     "output_type": "stream",
     "text": [
      "devil never even lived\n"
     ]
    }
   ],
   "source": [
    "s= 'devil neve reven lived'\n",
    "print(s[::-1])"
   ]
  },
  {
   "cell_type": "code",
   "execution_count": 46,
   "id": "7f39d6f2",
   "metadata": {},
   "outputs": [
    {
     "name": "stdout",
     "output_type": "stream",
     "text": [
      "diviV\n"
     ]
    }
   ],
   "source": [
    "s = 'World is Vivid'\n",
    "print(s[-1:-6:-1])"
   ]
  },
  {
   "cell_type": "markdown",
   "id": "c852222a",
   "metadata": {},
   "source": [
    "# Editing and Deleting in Strings"
   ]
  },
  {
   "cell_type": "code",
   "execution_count": 96,
   "id": "59527c9d",
   "metadata": {},
   "outputs": [
    {
     "name": "stdout",
     "output_type": "stream",
     "text": [
      "[32, 43]\n"
     ]
    }
   ],
   "source": [
    "s = ['hello world',32,43] #Strings are immutable\n",
    "del s[0]\n",
    "print(s)"
   ]
  },
  {
   "cell_type": "code",
   "execution_count": 99,
   "id": "fffcc67d",
   "metadata": {},
   "outputs": [
    {
     "name": "stdout",
     "output_type": "stream",
     "text": [
      "['Dead World', 'Suuiii', 'timro pratiksha', 0, 32, 4, 54, 4]\n"
     ]
    }
   ],
   "source": [
    "s = ['Dead World','Suuiii','timro pratiksha',0,32,4,54,4]\n",
    "del s[-1:-5:2]\n",
    "print(s)"
   ]
  },
  {
   "cell_type": "markdown",
   "id": "c0f4643b",
   "metadata": {},
   "source": [
    "# Operations on strings"
   ]
  },
  {
   "cell_type": "markdown",
   "id": "aeffb164",
   "metadata": {},
   "source": [
    "Arithmetic Operations\n",
    "\n",
    "Relational Operations\n",
    "\n",
    "Logical Operations\n",
    "\n",
    "Loops on Strings\n",
    "\n",
    "Membership Operations"
   ]
  },
  {
   "cell_type": "code",
   "execution_count": 102,
   "id": "4de28812",
   "metadata": {},
   "outputs": [
    {
     "name": "stdout",
     "output_type": "stream",
     "text": [
      "Nagpur Bhusawal\n"
     ]
    }
   ],
   "source": [
    "print('Nagpur'+' '+\"Bhusawal\")"
   ]
  },
  {
   "cell_type": "code",
   "execution_count": 106,
   "id": "41f1070b",
   "metadata": {},
   "outputs": [
    {
     "name": "stdout",
     "output_type": "stream",
     "text": [
      "Gian hai aap - Gian hai aap - Gian hai aap - Gian hai aap - Gian hai aap - \n"
     ]
    }
   ],
   "source": [
    "print('Gian hai aap - '*5)"
   ]
  },
  {
   "cell_type": "code",
   "execution_count": 107,
   "id": "e65e0d7d",
   "metadata": {},
   "outputs": [
    {
     "name": "stdout",
     "output_type": "stream",
     "text": [
      "**************************************************\n"
     ]
    }
   ],
   "source": [
    "print(\"*\"*50)"
   ]
  },
  {
   "cell_type": "code",
   "execution_count": 112,
   "id": "9258d00b",
   "metadata": {},
   "outputs": [
    {
     "data": {
      "text/plain": [
       "False"
      ]
     },
     "execution_count": 112,
     "metadata": {},
     "output_type": "execute_result"
    }
   ],
   "source": [
    "\"Pandas\" != \"Pandas\" and \"Pandas\" == \"Pandas\" "
   ]
  },
  {
   "cell_type": "code",
   "execution_count": 114,
   "id": "adcce8ae",
   "metadata": {},
   "outputs": [
    {
     "data": {
      "text/plain": [
       "True"
      ]
     },
     "execution_count": 114,
     "metadata": {},
     "output_type": "execute_result"
    }
   ],
   "source": [
    "\"pune\">\"PUNE\"\n",
    "#When comparing strings, lowercase letters are considered to be greater than uppercase letters."
   ]
  },
  {
   "cell_type": "code",
   "execution_count": 116,
   "id": "a4c9bd40",
   "metadata": {},
   "outputs": [
    {
     "data": {
      "text/plain": [
       "False"
      ]
     },
     "execution_count": 116,
     "metadata": {},
     "output_type": "execute_result"
    }
   ],
   "source": [
    "\"mumbai\" > \"pune\" #lexicographic (dictionary) order. i.e m comes before p. so P is high and M is less."
   ]
  },
  {
   "cell_type": "code",
   "execution_count": 117,
   "id": "efa7e198",
   "metadata": {},
   "outputs": [
    {
     "data": {
      "text/plain": [
       "'World'"
      ]
     },
     "execution_count": 117,
     "metadata": {},
     "output_type": "execute_result"
    }
   ],
   "source": [
    "'Dead' and \"World\" # It converts the string into bytes and the highest is printed"
   ]
  },
  {
   "cell_type": "code",
   "execution_count": 120,
   "id": "40fdd361",
   "metadata": {},
   "outputs": [
    {
     "data": {
      "text/plain": [
       "'Shitty'"
      ]
     },
     "execution_count": 120,
     "metadata": {},
     "output_type": "execute_result"
    }
   ],
   "source": [
    "'Shitty' or 'world' # It converts the string into bytes and the lowest is printed."
   ]
  },
  {
   "cell_type": "code",
   "execution_count": 122,
   "id": "f3670918",
   "metadata": {},
   "outputs": [
    {
     "data": {
      "text/plain": [
       "''"
      ]
     },
     "execution_count": 122,
     "metadata": {},
     "output_type": "execute_result"
    }
   ],
   "source": [
    "'' and \"world\""
   ]
  },
  {
   "cell_type": "code",
   "execution_count": 124,
   "id": "1e9f7892",
   "metadata": {},
   "outputs": [
    {
     "data": {
      "text/plain": [
       "'world'"
      ]
     },
     "execution_count": 124,
     "metadata": {},
     "output_type": "execute_result"
    }
   ],
   "source": [
    "'' or 'world'"
   ]
  },
  {
   "cell_type": "code",
   "execution_count": 125,
   "id": "49b14456",
   "metadata": {},
   "outputs": [
    {
     "data": {
      "text/plain": [
       "False"
      ]
     },
     "execution_count": 125,
     "metadata": {},
     "output_type": "execute_result"
    }
   ],
   "source": [
    "not 'World'"
   ]
  },
  {
   "cell_type": "code",
   "execution_count": 127,
   "id": "f9cee797",
   "metadata": {},
   "outputs": [
    {
     "name": "stdout",
     "output_type": "stream",
     "text": [
      "D\n",
      "e\n",
      "a\n",
      "d\n"
     ]
    }
   ],
   "source": [
    "for i in'Dead':\n",
    "    print(i)"
   ]
  },
  {
   "cell_type": "code",
   "execution_count": 128,
   "id": "7c39674c",
   "metadata": {},
   "outputs": [
    {
     "name": "stdout",
     "output_type": "stream",
     "text": [
      "Survivor\n",
      "Survivor\n",
      "Survivor\n",
      "Survivor\n",
      "Survivor\n",
      "Survivor\n",
      "Survivor\n"
     ]
    }
   ],
   "source": [
    "for i in 'A Being':\n",
    "    print(\"Survivor\")"
   ]
  },
  {
   "cell_type": "code",
   "execution_count": 129,
   "id": "edacbf93",
   "metadata": {},
   "outputs": [
    {
     "data": {
      "text/plain": [
       "False"
      ]
     },
     "execution_count": 129,
     "metadata": {},
     "output_type": "execute_result"
    }
   ],
   "source": [
    "\"D\" in 'delhi'"
   ]
  },
  {
   "cell_type": "markdown",
   "id": "67dbcaa9",
   "metadata": {},
   "source": [
    "# Common Functions\n",
    "\n",
    "len\n",
    "\n",
    "max\n",
    "\n",
    "min\n",
    "\n",
    "sorted"
   ]
  },
  {
   "cell_type": "code",
   "execution_count": 131,
   "id": "cac24595",
   "metadata": {},
   "outputs": [
    {
     "data": {
      "text/plain": [
       "10"
      ]
     },
     "execution_count": 131,
     "metadata": {},
     "output_type": "execute_result"
    }
   ],
   "source": [
    "len('Dead World') # length of the object"
   ]
  },
  {
   "cell_type": "code",
   "execution_count": 132,
   "id": "93c3f4f8",
   "metadata": {},
   "outputs": [
    {
     "data": {
      "text/plain": [
       "'r'"
      ]
     },
     "execution_count": 132,
     "metadata": {},
     "output_type": "execute_result"
    }
   ],
   "source": [
    "max(\"Dead World\") # alphabetically last alphabet"
   ]
  },
  {
   "cell_type": "code",
   "execution_count": 135,
   "id": "9d397011",
   "metadata": {},
   "outputs": [
    {
     "data": {
      "text/plain": [
       "'a'"
      ]
     },
     "execution_count": 135,
     "metadata": {},
     "output_type": "execute_result"
    }
   ],
   "source": [
    "min(\"deadworld\") # alphabetically first alphabet"
   ]
  },
  {
   "cell_type": "code",
   "execution_count": 136,
   "id": "8c41ae84",
   "metadata": {},
   "outputs": [
    {
     "data": {
      "text/plain": [
       "['w', 'r', 'o', 'l', 'e', 'd', 'd', 'd', 'a', ' ']"
      ]
     },
     "execution_count": 136,
     "metadata": {},
     "output_type": "execute_result"
    }
   ],
   "source": [
    "sorted('dead world',reverse=True)"
   ]
  },
  {
   "cell_type": "markdown",
   "id": "3a12502c",
   "metadata": {},
   "source": [
    "# Capitalize/Title/Upper/Lower/Swapcase"
   ]
  },
  {
   "cell_type": "code",
   "execution_count": 140,
   "id": "1591b959",
   "metadata": {},
   "outputs": [
    {
     "name": "stdout",
     "output_type": "stream",
     "text": [
      "May flowers grow in the saddest parts of you\n",
      "may flowers grow in the saddest parts of you\n"
     ]
    }
   ],
   "source": [
    "s= \"may flowers grow in the saddest parts of you\"\n",
    "print(s.capitalize())\n",
    "print(s)"
   ]
  },
  {
   "cell_type": "code",
   "execution_count": 141,
   "id": "32531f2d",
   "metadata": {},
   "outputs": [
    {
     "data": {
      "text/plain": [
       "'May Flowers Grow In The Saddest Parts Of You'"
      ]
     },
     "execution_count": 141,
     "metadata": {},
     "output_type": "execute_result"
    }
   ],
   "source": [
    "s.title()"
   ]
  },
  {
   "cell_type": "code",
   "execution_count": 142,
   "id": "e55f977a",
   "metadata": {},
   "outputs": [
    {
     "data": {
      "text/plain": [
       "'MAY FLOWERS GROW IN THE SADDEST PARTS OF YOU'"
      ]
     },
     "execution_count": 142,
     "metadata": {},
     "output_type": "execute_result"
    }
   ],
   "source": [
    "s.upper()"
   ]
  },
  {
   "cell_type": "code",
   "execution_count": 143,
   "id": "f2c8454f",
   "metadata": {},
   "outputs": [
    {
     "data": {
      "text/plain": [
       "'may flowers grow in the saddest parts of you'"
      ]
     },
     "execution_count": 143,
     "metadata": {},
     "output_type": "execute_result"
    }
   ],
   "source": [
    "'MAY FLOWERS GROW IN THE SADDEST PARTS OF YOU'.lower()\n"
   ]
  },
  {
   "cell_type": "code",
   "execution_count": 144,
   "id": "142d4ea7",
   "metadata": {},
   "outputs": [
    {
     "data": {
      "text/plain": [
       "'mAY fLOWERS gROW iN tHE sADDEST pARTS oF yOU'"
      ]
     },
     "execution_count": 144,
     "metadata": {},
     "output_type": "execute_result"
    }
   ],
   "source": [
    "'May Flowers Grow In The Saddest Parts Of You'.swapcase()\n"
   ]
  },
  {
   "cell_type": "markdown",
   "id": "92af9b11",
   "metadata": {},
   "source": [
    "# Count/Find/Index"
   ]
  },
  {
   "cell_type": "code",
   "execution_count": 148,
   "id": "76e28908",
   "metadata": {},
   "outputs": [],
   "source": [
    "a = \"I am datadude saad khan.\""
   ]
  },
  {
   "cell_type": "code",
   "execution_count": 149,
   "id": "e7bd1ca7",
   "metadata": {},
   "outputs": [
    {
     "data": {
      "text/plain": [
       "6"
      ]
     },
     "execution_count": 149,
     "metadata": {},
     "output_type": "execute_result"
    }
   ],
   "source": [
    "a.count('a')  # How many times a is used in sentence."
   ]
  },
  {
   "cell_type": "code",
   "execution_count": 151,
   "id": "d7636e16",
   "metadata": {},
   "outputs": [
    {
     "data": {
      "text/plain": [
       "-1"
      ]
     },
     "execution_count": 151,
     "metadata": {},
     "output_type": "execute_result"
    }
   ],
   "source": [
    "a.find('x')  # If the substring 'x' is not found in 'a' variable the -1. "
   ]
  },
  {
   "cell_type": "code",
   "execution_count": 153,
   "id": "33a6c896",
   "metadata": {},
   "outputs": [
    {
     "data": {
      "text/plain": [
       "3"
      ]
     },
     "execution_count": 153,
     "metadata": {},
     "output_type": "execute_result"
    }
   ],
   "source": [
    "a.find('m') # Index postion of 'm' in variable."
   ]
  },
  {
   "cell_type": "code",
   "execution_count": 155,
   "id": "896256a2",
   "metadata": {},
   "outputs": [
    {
     "data": {
      "text/plain": [
       "19"
      ]
     },
     "execution_count": 155,
     "metadata": {},
     "output_type": "execute_result"
    }
   ],
   "source": [
    "a.index('k') #Index postion of 'k' in variable but throws error if substring not found."
   ]
  },
  {
   "cell_type": "markdown",
   "id": "1500c838",
   "metadata": {},
   "source": [
    "# endswith / startswith"
   ]
  },
  {
   "cell_type": "code",
   "execution_count": 157,
   "id": "d39b1390",
   "metadata": {},
   "outputs": [],
   "source": [
    "e = 'Baby I dont need no dollar bills to have fun tonight , I love cheap thrills.'"
   ]
  },
  {
   "cell_type": "code",
   "execution_count": 159,
   "id": "863abf20",
   "metadata": {},
   "outputs": [
    {
     "data": {
      "text/plain": [
       "True"
      ]
     },
     "execution_count": 159,
     "metadata": {},
     "output_type": "execute_result"
    }
   ],
   "source": [
    "e.endswith('rills.')"
   ]
  },
  {
   "cell_type": "code",
   "execution_count": 161,
   "id": "860185fa",
   "metadata": {},
   "outputs": [
    {
     "data": {
      "text/plain": [
       "True"
      ]
     },
     "execution_count": 161,
     "metadata": {},
     "output_type": "execute_result"
    }
   ],
   "source": [
    "e.startswith('Bab')"
   ]
  },
  {
   "cell_type": "markdown",
   "id": "26624b88",
   "metadata": {},
   "source": [
    "# Format"
   ]
  },
  {
   "cell_type": "code",
   "execution_count": 163,
   "id": "020bf963",
   "metadata": {},
   "outputs": [
    {
     "data": {
      "text/plain": [
       "'A sprout of darkness is solitude and it shattered me from inside.'"
      ]
     },
     "execution_count": 163,
     "metadata": {},
     "output_type": "execute_result"
    }
   ],
   "source": [
    "feeling  = 'solitude'\n",
    "heart    = 'shattered'\n",
    "\"A sprout of darkness is {0} and it {1} me from inside.\".format(feeling,heart)"
   ]
  },
  {
   "cell_type": "markdown",
   "id": "312be20d",
   "metadata": {},
   "source": [
    "# isalnum/ isalpha/ isdigit/ isidentifier"
   ]
  },
  {
   "cell_type": "code",
   "execution_count": 164,
   "id": "2f9c1b84",
   "metadata": {},
   "outputs": [
    {
     "data": {
      "text/plain": [
       "False"
      ]
     },
     "execution_count": 164,
     "metadata": {},
     "output_type": "execute_result"
    }
   ],
   "source": [
    "'Self-Destroyer69'.isalnum()"
   ]
  },
  {
   "cell_type": "code",
   "execution_count": 166,
   "id": "e83703c2",
   "metadata": {},
   "outputs": [
    {
     "data": {
      "text/plain": [
       "True"
      ]
     },
     "execution_count": 166,
     "metadata": {},
     "output_type": "execute_result"
    }
   ],
   "source": [
    "\"FredrickNeitschze\".isalpha()"
   ]
  },
  {
   "cell_type": "code",
   "execution_count": 167,
   "id": "e74ccc2c",
   "metadata": {},
   "outputs": [
    {
     "data": {
      "text/plain": [
       "False"
      ]
     },
     "execution_count": 167,
     "metadata": {},
     "output_type": "execute_result"
    }
   ],
   "source": [
    "'77afn'.isdigit()"
   ]
  },
  {
   "cell_type": "code",
   "execution_count": 168,
   "id": "0f5a9af0",
   "metadata": {},
   "outputs": [
    {
     "name": "stdout",
     "output_type": "stream",
     "text": [
      "True\n"
     ]
    }
   ],
   "source": [
    "name1 = \"variable_name\"\n",
    "print(name1.isidentifier())  # Output will be True"
   ]
  },
  {
   "cell_type": "markdown",
   "id": "4116800e",
   "metadata": {},
   "source": [
    "# Split/Join"
   ]
  },
  {
   "cell_type": "code",
   "execution_count": 170,
   "id": "a4671026",
   "metadata": {},
   "outputs": [
    {
     "data": {
      "text/plain": [
       "['hi', 'my', 'name', 'is', 'Saad']"
      ]
     },
     "execution_count": 170,
     "metadata": {},
     "output_type": "execute_result"
    }
   ],
   "source": [
    "'hi my name is Saad'.split()"
   ]
  },
  {
   "cell_type": "code",
   "execution_count": 171,
   "id": "1f5bac61",
   "metadata": {},
   "outputs": [
    {
     "data": {
      "text/plain": [
       "'hi my name is Saad'"
      ]
     },
     "execution_count": 171,
     "metadata": {},
     "output_type": "execute_result"
    }
   ],
   "source": [
    "\" \".join([\" \".join(['hi', 'my', 'name', 'is', 'Saad'])])"
   ]
  },
  {
   "cell_type": "markdown",
   "id": "30739e9c",
   "metadata": {},
   "source": [
    "# Replace"
   ]
  },
  {
   "cell_type": "code",
   "execution_count": 173,
   "id": "b04f4865",
   "metadata": {},
   "outputs": [
    {
     "data": {
      "text/plain": [
       "('hi', 'my', 'name', 'is', 'datadude')"
      ]
     },
     "execution_count": 173,
     "metadata": {},
     "output_type": "execute_result"
    }
   ],
   "source": [
    "'hi', 'my', 'name', 'is', 'Saad'.replace('Saad','datadude')"
   ]
  },
  {
   "cell_type": "markdown",
   "id": "90a57733",
   "metadata": {},
   "source": [
    "# Strip"
   ]
  },
  {
   "cell_type": "code",
   "execution_count": 174,
   "id": "2fee2510",
   "metadata": {},
   "outputs": [
    {
     "data": {
      "text/plain": [
       "'Besabriyaan'"
      ]
     },
     "execution_count": 174,
     "metadata": {},
     "output_type": "execute_result"
    }
   ],
   "source": [
    "'Besabriyaan           '.strip()"
   ]
  },
  {
   "cell_type": "markdown",
   "id": "e03c76d8",
   "metadata": {},
   "source": [
    "# Example Programs"
   ]
  },
  {
   "cell_type": "code",
   "execution_count": 175,
   "id": "93cd3db1",
   "metadata": {},
   "outputs": [
    {
     "name": "stdout",
     "output_type": "stream",
     "text": [
      "enter the stringSaad is a bitch\n",
      "length of the string 15\n"
     ]
    }
   ],
   "source": [
    "## Find the length of a given string without using the len() function\n",
    "\n",
    "s = input('enter the string')\n",
    "\n",
    "counter = 0\n",
    "\n",
    "for i in s:\n",
    "    counter += 1\n",
    "    \n",
    "print('length of the string',counter)\n",
    "    "
   ]
  },
  {
   "cell_type": "code",
   "execution_count": 176,
   "id": "aa0b641c",
   "metadata": {},
   "outputs": [
    {
     "name": "stdout",
     "output_type": "stream",
     "text": [
      "enter the emailPapakiPari@gmail.com\n",
      "PapakiPari\n"
     ]
    }
   ],
   "source": [
    " # Extract username from a given email. \n",
    "# Eg if the email is nitish24singh@gmail.com \n",
    "# then the username should be nitish24singh\n",
    "\n",
    "s = input('Apna email dalia.')\n",
    "\n",
    "pos = s.index('@')\n",
    "print(s[0:pos])\n",
    "\n"
   ]
  },
  {
   "cell_type": "code",
   "execution_count": 182,
   "id": "672aaeb7",
   "metadata": {},
   "outputs": [
    {
     "name": "stdout",
     "output_type": "stream",
     "text": [
      "apna email dalia.PhoenixRisingFromTheAshes@comeback.com\n",
      "kiski frequency janna chahenge aap.e\n",
      "frequency 4\n"
     ]
    }
   ],
   "source": [
    "# Count the frequency of a particular character in a provided string. \n",
    "# Eg 'hello how are you' is the string, the frequency of h in this string is 2.\n",
    "\n",
    "s = input('apna email dalia.')\n",
    "term = input('kiski frequency janna chahenge aap.')\n",
    "\n",
    "counter = 0\n",
    "for i in s:\n",
    "  if i == term:\n",
    "    counter += 1\n",
    "\n",
    "print('frequency',counter)\n"
   ]
  },
  {
   "cell_type": "code",
   "execution_count": 1,
   "id": "8d9c462d",
   "metadata": {},
   "outputs": [
    {
     "name": "stdout",
     "output_type": "stream",
     "text": [
      "enter the stringLucid Dreamer\n",
      "what would you like to removed\n",
      "Luci Dreamer\n"
     ]
    }
   ],
   "source": [
    "# Write a program which can remove a particular character from a string.\n",
    "s = input('enter the string')\n",
    "term = input('what would you like to remove')\n",
    "\n",
    "result = ''\n",
    "\n",
    "for i in s:\n",
    "  if i != term:\n",
    "    result = result + i\n",
    "\n",
    "print(result)"
   ]
  },
  {
   "cell_type": "code",
   "execution_count": 188,
   "id": "22190cea",
   "metadata": {},
   "outputs": [
    {
     "name": "stdout",
     "output_type": "stream",
     "text": [
      "enter the stringqueen\n",
      "Haule, galat daala hai tuh.\n"
     ]
    }
   ],
   "source": [
    "# Write a program that can check whether a given string is palindrome or not.\n",
    "# abba\n",
    "# malayalam\n",
    "\n",
    "s = input('enter the string')\n",
    "flag = True\n",
    "for i in range(0,len(s)//2):\n",
    "  if s[i] != s[len(s) - i -1]:\n",
    "    flag = False\n",
    "    print('Haule, galat daala hai tuh.')\n",
    "    break\n",
    "\n",
    "if flag:\n",
    "  print('Palindrome')\n",
    "\n"
   ]
  },
  {
   "cell_type": "code",
   "execution_count": 192,
   "id": "fa8ab713",
   "metadata": {},
   "outputs": [
    {
     "name": "stdout",
     "output_type": "stream",
     "text": [
      "enter the stringThey pierced a pen through my heart and I became a poet.\n",
      "['They', 'pierced', 'a', 'pen', 'through', 'my', 'heart', 'and', 'I', 'became', 'a', 'poet.']\n"
     ]
    }
   ],
   "source": [
    "# Write a program to count the number of words in a string without split()\n",
    "\n",
    "s = input('enter the string')\n",
    "L = []\n",
    "temp = ''\n",
    "for i in s:\n",
    "\n",
    "  if i != ' ':\n",
    "    temp = temp + i\n",
    "  else:\n",
    "    L.append(temp)\n",
    "    temp = ''\n",
    "\n",
    "L.append(temp)\n",
    "print(L)\n"
   ]
  },
  {
   "cell_type": "code",
   "execution_count": 190,
   "id": "13957c00",
   "metadata": {},
   "outputs": [
    {
     "name": "stdout",
     "output_type": "stream",
     "text": [
      "enter the stringBe careful about rushing God's timing. You never know who or what HE is protecting you from.\n",
      "Be Careful About Rushing God's Timing. You Never Know Who Or What He Is Protecting You From.\n"
     ]
    }
   ],
   "source": [
    "# Write a python program to convert a string to title case without using the title()\n",
    "s = input('enter the string')\n",
    "\n",
    "L = []\n",
    "for i in s.split():\n",
    "  L.append(i[0].upper() + i[1:].lower())\n",
    "\n",
    "print(\" \".join(L))"
   ]
  },
  {
   "cell_type": "code",
   "execution_count": 191,
   "id": "29f68a7b",
   "metadata": {},
   "outputs": [
    {
     "name": "stdout",
     "output_type": "stream",
     "text": [
      "enter the number22345\n",
      "22345\n",
      "<class 'str'>\n"
     ]
    }
   ],
   "source": [
    "# Write a program that can convert an integer to string.\n",
    "\n",
    "number = int(input('enter the number'))\n",
    "\n",
    "digits = '0123456789'\n",
    "result = ''\n",
    "while number != 0:\n",
    "  result = digits[number % 10] + result\n",
    "  number = number//10\n",
    "\n",
    "print(result)\n",
    "print(type(result))"
   ]
  }
 ],
 "metadata": {
  "kernelspec": {
   "display_name": "Python 3 (ipykernel)",
   "language": "python",
   "name": "python3"
  },
  "language_info": {
   "codemirror_mode": {
    "name": "ipython",
    "version": 3
   },
   "file_extension": ".py",
   "mimetype": "text/x-python",
   "name": "python",
   "nbconvert_exporter": "python",
   "pygments_lexer": "ipython3",
   "version": "3.11.5"
  }
 },
 "nbformat": 4,
 "nbformat_minor": 5
}
